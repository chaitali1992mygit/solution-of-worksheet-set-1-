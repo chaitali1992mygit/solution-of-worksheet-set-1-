{
 "cells": [
  {
   "cell_type": "code",
   "execution_count": 1,
   "metadata": {},
   "outputs": [],
   "source": [
    "#Q11 to Q15 are programming questions. Answer them in Jupyter Notebook.\n",
    "\n",
    "#Que11. Write a python program to find the factorial of a number."
   ]
  },
  {
   "cell_type": "code",
   "execution_count": 1,
   "metadata": {},
   "outputs": [],
   "source": [
    "import os"
   ]
  },
  {
   "cell_type": "code",
   "execution_count": 2,
   "metadata": {},
   "outputs": [
    {
     "data": {
      "text/plain": [
       "'C:\\\\Users\\\\Chaitali Nakade'"
      ]
     },
     "execution_count": 2,
     "metadata": {},
     "output_type": "execute_result"
    }
   ],
   "source": [
    "os.getcwd()"
   ]
  },
  {
   "cell_type": "code",
   "execution_count": 2,
   "metadata": {},
   "outputs": [
    {
     "name": "stdout",
     "output_type": "stream",
     "text": [
      "Enter any number to find factorial:4\n",
      "factorial of 4 is : 24\n"
     ]
    }
   ],
   "source": [
    "#1)python program to find the factorial of a number using for loop\n",
    "\n",
    "num=int(input(\"Enter any number to find factorial:\"))\n",
    "fact=1\n",
    "\n",
    "for i in range(1, num+1):\n",
    "    fact=fact*i\n",
    "    \n",
    "print(\"factorial of %d is : %d\"%(num,fact))"
   ]
  },
  {
   "cell_type": "code",
   "execution_count": 3,
   "metadata": {},
   "outputs": [
    {
     "name": "stdout",
     "output_type": "stream",
     "text": [
      "Enter any number to find factorial:5\n",
      "factorial of 5 is : 120\n"
     ]
    }
   ],
   "source": [
    "#2)python program to find the factorial of a number using while loop\n",
    "\n",
    "num=int(input(\"Enter any number to find factorial:\"))\n",
    "fact=1\n",
    "i=1\n",
    "\n",
    "while i<=num:\n",
    "    fact=fact*i\n",
    "    i=i+1\n",
    "    \n",
    "print(\"factorial of %d is : %d\"%(num, fact))"
   ]
  },
  {
   "cell_type": "code",
   "execution_count": null,
   "metadata": {},
   "outputs": [],
   "source": []
  },
  {
   "cell_type": "code",
   "execution_count": null,
   "metadata": {},
   "outputs": [],
   "source": [
    "#que12. Write a python program to find whether a number is prime or composite."
   ]
  },
  {
   "cell_type": "code",
   "execution_count": 30,
   "metadata": {},
   "outputs": [
    {
     "name": "stdout",
     "output_type": "stream",
     "text": [
      "enter any number: 107\n",
      "given number 107 is a prime number\n"
     ]
    }
   ],
   "source": [
    "#python program to find whether a number is prime or composite using for loop\n",
    "\n",
    "Num=int(input(\"enter any number: \"))\n",
    "count=0\n",
    "\n",
    "for i in range(2, Num):\n",
    "    if(Num%i==0):\n",
    "        count=count+1\n",
    "        break\n",
    "        \n",
    "if(count==0 and Num!=1):\n",
    "else:\n",
    "    print(\"given number %d is a composite number\"%Num)"
   ]
  },
  {
   "cell_type": "code",
   "execution_count": 1,
   "metadata": {},
   "outputs": [
    {
     "name": "stdout",
     "output_type": "stream",
     "text": [
      " Please Enter any Number: 104\n",
      " 104 is a composite Number\n"
     ]
    }
   ],
   "source": [
    "#python program to find whether a number is prime or composite using while loop\n",
    " \n",
    "Number = int(input(\" Please Enter any Number: \"))\n",
    "count = 0\n",
    "i = 2\n",
    "\n",
    "while(i <= Number//2):\n",
    "    if(Number % i == 0):\n",
    "        count = count + 1\n",
    "        break\n",
    "    i = i + 1\n",
    "\n",
    "if (count == 0 and Number != 1):\n",
    "    print(\" %d is a Prime Number\" %Number)\n",
    "else:\n",
    "    print(\" %d is a composite Number\" %Number)"
   ]
  },
  {
   "cell_type": "code",
   "execution_count": null,
   "metadata": {},
   "outputs": [],
   "source": []
  },
  {
   "cell_type": "code",
   "execution_count": null,
   "metadata": {},
   "outputs": [],
   "source": [
    "#Que13. Write a python program to check whether a given string is palindrome or not."
   ]
  },
  {
   "cell_type": "code",
   "execution_count": 42,
   "metadata": {},
   "outputs": [
    {
     "name": "stdout",
     "output_type": "stream",
     "text": [
      "enter any string:num\n",
      "string in reverse order: mun\n",
      "This is not a palindrom String: num\n"
     ]
    }
   ],
   "source": [
    "#python program to check whether a given string is palindrome or not\n",
    "\n",
    "S=str(input(\"enter any string:\"))\n",
    "a=S\n",
    "b=(a[::-1])\n",
    "print(\"string in reverse order: %s\" %b)\n",
    "if b==a:\n",
    "    print(\"Thid is a palindrome String: %s\"%S)\n",
    "else:\n",
    "    print(\"This is not a palindrom String: %s\"%S)"
   ]
  },
  {
   "cell_type": "code",
   "execution_count": null,
   "metadata": {},
   "outputs": [],
   "source": []
  },
  {
   "cell_type": "code",
   "execution_count": 43,
   "metadata": {},
   "outputs": [],
   "source": [
    "#Que14. Write a Python program to get the third side of right-angled triangle from two given sides."
   ]
  },
  {
   "cell_type": "code",
   "execution_count": 19,
   "metadata": {},
   "outputs": [
    {
     "name": "stdout",
     "output_type": "stream",
     "text": [
      "Hypotenuse_value = 10.0\n"
     ]
    }
   ],
   "source": [
    "# Python program to get the third side of right-angled triangle from two given sides using function\n",
    "\n",
    "def pythagoras(opposite_side, adjacent_side, hypotenuse):\n",
    "        if opposite_side == str(\"x\"):\n",
    "            return (\"Opposite_side = \" + str(((hypotenuse**2) - (adjacent_side**2))**0.5))\n",
    "        elif adjacent_side == str(\"x\"):\n",
    "            return (\"Adjacent_side = \" + str(((hypotenuse**2) - (opposite_side**2))**0.5))\n",
    "        elif hypotenuse == str(\"x\"):\n",
    "            return (\"Hypotenuse_value = \" + str(((opposite_side**2) + (adjacent_side**2))**0.5))\n",
    "        else:\n",
    "            return \"We know the answer!\"\n",
    "    \n",
    "print(pythagoras(8,6,'x'))"
   ]
  },
  {
   "cell_type": "code",
   "execution_count": null,
   "metadata": {},
   "outputs": [],
   "source": []
  },
  {
   "cell_type": "code",
   "execution_count": null,
   "metadata": {},
   "outputs": [],
   "source": [
    "#Que15. Write a python program to print the frequency of each of the characters present in a given string"
   ]
  },
  {
   "cell_type": "code",
   "execution_count": 15,
   "metadata": {},
   "outputs": [
    {
     "name": "stdout",
     "output_type": "stream",
     "text": [
      "enter any string:helloo\n",
      "{'h': 1, 'e': 1, 'l': 2, 'o': 2}\n"
     ]
    }
   ],
   "source": [
    "#python program to print the frequency of each of the characters present in a given string using function\n",
    "\n",
    "def char_frequency(str1):\n",
    "    dict = {}\n",
    "    for n in str1:\n",
    "        keys = dict.keys()\n",
    "        if n in keys:\n",
    "            dict[n] += 1\n",
    "        else:\n",
    "            dict[n] = 1\n",
    "            \n",
    "    return dict\n",
    "print(char_frequency(str(input(\"enter any string:\"))))"
   ]
  },
  {
   "cell_type": "code",
   "execution_count": null,
   "metadata": {},
   "outputs": [],
   "source": []
  }
 ],
 "metadata": {
  "kernelspec": {
   "display_name": "Python 3",
   "language": "python",
   "name": "python3"
  },
  "language_info": {
   "codemirror_mode": {
    "name": "ipython",
    "version": 3
   },
   "file_extension": ".py",
   "mimetype": "text/x-python",
   "name": "python",
   "nbconvert_exporter": "python",
   "pygments_lexer": "ipython3",
   "version": "3.8.5"
  }
 },
 "nbformat": 4,
 "nbformat_minor": 4
}
